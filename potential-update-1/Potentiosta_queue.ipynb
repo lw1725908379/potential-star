{
 "cells": [
  {
   "cell_type": "code",
   "execution_count": 2,
   "id": "d0f93fc1",
   "metadata": {},
   "outputs": [
    {
     "ename": "ModuleNotFoundError",
     "evalue": "No module named 'potentiostat'",
     "output_type": "error",
     "traceback": [
      "\u001b[1;31m---------------------------------------------------------------------------\u001b[0m",
      "\u001b[1;31mModuleNotFoundError\u001b[0m                       Traceback (most recent call last)",
      "Cell \u001b[1;32mIn[2], line 5\u001b[0m\n\u001b[0;32m      3\u001b[0m \u001b[38;5;28;01mimport\u001b[39;00m \u001b[38;5;21;01mthreading\u001b[39;00m\n\u001b[0;32m      4\u001b[0m \u001b[38;5;28;01mimport\u001b[39;00m \u001b[38;5;21;01mqueue\u001b[39;00m \u001b[38;5;28;01mas\u001b[39;00m \u001b[38;5;21;01mQueue\u001b[39;00m\n\u001b[1;32m----> 5\u001b[0m \u001b[38;5;28;01mimport\u001b[39;00m \u001b[38;5;21;01mpotentiostat\u001b[39;00m \u001b[38;5;28;01mas\u001b[39;00m \u001b[38;5;21;01mps\u001b[39;00m\n\u001b[0;32m      8\u001b[0m \u001b[38;5;28;01mclass\u001b[39;00m \u001b[38;5;21;01mPotentiostatWithQueue\u001b[39;00m(ps\u001b[38;5;241m.\u001b[39mPotentiostat):\n\u001b[0;32m     10\u001b[0m     \u001b[38;5;28;01mdef\u001b[39;00m \u001b[38;5;21m__init__\u001b[39m(\u001b[38;5;28mself\u001b[39m, port, timeout\u001b[38;5;241m=\u001b[39m\u001b[38;5;241m10.0\u001b[39m, debug\u001b[38;5;241m=\u001b[39m\u001b[38;5;28;01mFalse\u001b[39;00m):\n",
      "\u001b[1;31mModuleNotFoundError\u001b[0m: No module named 'potentiostat'"
     ]
    }
   ],
   "source": [
    "from __future__ import print_function\n",
    "import json\n",
    "import threading\n",
    "import queue as Queue\n",
    "import potentiostat as ps\n",
    "\n",
    "\n",
    "class PotentiostatWithQueue(ps.Potentiostat):\n",
    "\n",
    "    def __init__(self, port, timeout=10.0, debug=False):\n",
    "        super(PotentiostatWithQueue, self).__init__(port, timeout=timeout, debug=debug)\n",
    "        self.data_queue = Queue.Queue()\n",
    "\n",
    "    def receive_data(self, timeunit):\n",
    "\n",
    "        while self.test_running:\n",
    "            # Get json data from the device\n",
    "            sample_json = self.readline()\n",
    "            sample_json = sample_json.strip()\n",
    "            try:\n",
    "                sample_dict = json.loads(sample_json.decode())\n",
    "            except ValueError:\n",
    "                continue\n",
    "            # Put new values in data queue\n",
    "            if len(sample_dict) > 0:\n",
    "                tval = sample_dict[ps.TimeKey] * ps.TimeUnitToScale[timeunit]\n",
    "                volt = sample_dict[ps.VoltKey]\n",
    "                curr = sample_dict[ps.CurrKey]\n",
    "                self.data_queue.put({'tval': tval, 'volt': volt, 'curr': curr})\n",
    "            else:\n",
    "                self.data_queue.put({})\n",
    "                self.test_running = False\n",
    "\n",
    "    def run_test(self, testname, param=None, timeunit='s'):\n",
    "    # def run_test(self, testname, param=None, filename=None, volt_lims=None, curr_lims=None, timeunit='s'):\n",
    "        if timeunit not in ps.TimeUnitToScale:\n",
    "            raise RuntimeError('uknown timeunit option {0}'.format(timeunit))\n",
    "\n",
    "        if param is not None:\n",
    "            self.set_param(testname, param)\n",
    "\n",
    "\n",
    "\n",
    "        t_done = self.get_test_done_time(testname, timeunit=timeunit)\n",
    "        # Setup up working thread to collect data from device\n",
    "        data_worker = threading.Thread(target=self.receive_data, args=(timeunit,))\n",
    "        data_worker.daemon = True\n",
    "        self.data_queue = Queue.Queue()\n",
    "\n",
    "        # Send command to run the test\n",
    "        cmd_dict = {\n",
    "            ps.CommandKey: ps.RunTestCmd,\n",
    "            ps.TestKey: testname\n",
    "        }\n",
    "        msg_dict = self.send_cmd(cmd_dict)\n",
    "        self.test_running = True\n",
    "        data_worker.start()\n"
   ]
  },
  {
   "cell_type": "code",
   "execution_count": null,
   "id": "0760f7a0",
   "metadata": {},
   "outputs": [],
   "source": []
  }
 ],
 "metadata": {
  "kernelspec": {
   "display_name": "Python 3 (ipykernel)",
   "language": "python",
   "name": "python3"
  },
  "language_info": {
   "codemirror_mode": {
    "name": "ipython",
    "version": 3
   },
   "file_extension": ".py",
   "mimetype": "text/x-python",
   "name": "python",
   "nbconvert_exporter": "python",
   "pygments_lexer": "ipython3",
   "version": "3.9.18"
  }
 },
 "nbformat": 4,
 "nbformat_minor": 5
}
